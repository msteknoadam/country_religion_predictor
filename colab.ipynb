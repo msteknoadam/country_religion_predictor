{
  "nbformat": 4,
  "nbformat_minor": 0,
  "metadata": {
    "colab": {
      "name": "Untitled1.ipynb",
      "provenance": []
    },
    "kernelspec": {
      "name": "python3",
      "display_name": "Python 3"
    }
  },
  "cells": [
    {
      "cell_type": "code",
      "metadata": {},
      "outputs": [],
      "source": [
        "try:\n",
        "  # %tensorflow_version only exists in Colab.\n",
        "  %tensorflow_version 2.x\n",
        "except Exception:\n",
        "  pass"
      ]
    },
    {
      "cell_type": "markdown",
      "execution_count": null,
      "metadata": {},
      "outputs": [],
      "source": [
        "I'm making this project with TensorFlow 2.0 so I need to specify that for Google Colab since it should be compatible with Colab."
      ]
    },
    {
      "cell_type": "code",
      "metadata": {},
      "outputs": [],
      "source": [
        "import tensorflow as tf\n",
        "import numpy as np\n",
        "import matplotlib.pyplot as plt\n",
        "import pandas as pd\n",
        "import seaborn as sns"
      ]
    },
    {
      "cell_type": "markdown",
      "metadata": {
        "colab_type": "text",
        "id": "UnootnQ2w3BV"
      },
      "outputs": [],
      "source": [
        "Importing required libraries"
      ]
    },
    {
      "cell_type": "code",
      "metadata": {},
      "outputs": [],
      "source": [
        "data_url = 'https://archive.ics.uci.edu/ml/machine-learning-databases/flags/flag.data'\n",
        "\n",
        "dataset_path = tf.keras.utils.get_file(\"train.csv\", data_url)\n",
        "\n",
        "column_names = ['Name','Landmass','Zone','Area','Population', 'Language', \n",
        "                'Religion', 'Bars', 'Stripes', 'Colours', 'Red', 'Green', \n",
        "                'Blue', 'Gold', 'White', 'Black', 'Orange', 'Main Hue',\n",
        "                'Circles', 'Crosses', 'Saltires', 'Quarters', 'Sunstars',\n",
        "                'Crescent', 'Triangle', 'Icon', 'Animate', 'Text', 'Top Left',\n",
        "                'Bottom Right']\n",
        "\n",
        "raw_dataset = pd.read_csv(dataset_path, names=column_names,\n",
        "                      na_values = \"Unknown\", sep=\",\")\n",
        "\n",
        "dataset = raw_dataset.copy()\n",
        "dataset.tail()\n"
      ]
    },
    {
      "cell_type": "markdown",
      "metadata": {},
      "outputs": [],
      "source": [
        "Importing dataset from UCI's database."
      ]
    }
  ]
}